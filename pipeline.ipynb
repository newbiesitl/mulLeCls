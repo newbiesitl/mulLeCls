{
 "cells": [
  {
   "cell_type": "code",
   "execution_count": 1,
   "metadata": {
    "collapsed": true
   },
   "outputs": [],
   "source": [
    "# read data from data set\n",
    "from utils.data_utils import jigsaw_toxix_ds_get_df\n",
    "from config import *\n",
    "df = jigsaw_toxix_ds_get_df()\n",
    "comments = df[\"comment_text\"].tolist()\n",
    "comments = [x.replace('\\n', ' ') for x in comments]\n",
    "\n",
    "dump_text = '\\n'.join(comments)\n"
   ]
  },
  {
   "cell_type": "code",
   "execution_count": 2,
   "metadata": {},
   "outputs": [],
   "source": [
    "# put them into txt\n",
    "dump_file_name = 'input.txt'\n",
    "dump_file_path = os.path.join(data_folder, dump_file_name)\n",
    "with open(dump_file_path, 'w+') as f:\n",
    "    f.write(dump_text)\n",
    "    \n",
    "    \n",
    "    "
   ]
  },
  {
   "cell_type": "code",
   "execution_count": 18,
   "metadata": {},
   "outputs": [
    {
     "name": "stdout",
     "output_type": "stream",
     "text": [
      "/home/pintellect/PycharmProjects/mulLeCls\nb'/home/pintellect/bin:/home/pintellect/.local/bin:/usr/local/sbin:/usr/local/bin:/usr/sbin:/usr/bin:/sbin:/bin:/usr/games:/usr/local/games:/snap/bin\\n'\n"
     ]
    }
   ],
   "source": [
    "# run bert scripts to embed\n",
    "import subprocess\n",
    "print(project_root)\n",
    "bashCommend = 'bash model_factory/gen_embedding.sh'.format(project_root)\n",
    "process = subprocess.Popen(bashCommend.split(), stdout=subprocess.PIPE,  executable='/bin/bash')\n",
    "output, error = process.communicate()\n",
    "print(output)\n",
    "\n"
   ]
  },
  {
   "cell_type": "code",
   "execution_count": 12,
   "metadata": {
    "collapsed": true
   },
   "outputs": [],
   "source": [
    "# extract embeddings from json file and convert into list\n",
    "import json\n",
    "\n",
    "embedding_file_name = 'output.jsonl'\n",
    "embedding_file_path = os.path.join(data_folder, embedding_file_name)\n",
    "json_objs = []\n",
    "with open(embedding_file_path, 'r') as f:\n",
    "    for line in f:\n",
    "        this_json = json.loads(line)\n",
    "        json_objs.append(this_json)\n",
    "        \n",
    "'''\n",
    "Schema\n",
    "{\n",
    "    \"linex_index\": int,\n",
    "    \"features\": [\n",
    "        {\n",
    "            \"token\": str,\n",
    "            \"layers\": [\n",
    "                {\n",
    "                    \"index\": -1,\n",
    "                    \"values\": list(),\n",
    "                }\n",
    "            ]\n",
    "        }\n",
    "    ]\n",
    "}\n",
    "'''\n",
    "\n",
    "target_bert_layer_idx = -1\n",
    "embedded_comments = []\n",
    "# \n",
    "for sentence_obj in json_objs:\n",
    "    features = sentence_obj['features']\n",
    "    for word in features:\n",
    "        for layer in word['layers']:\n",
    "            if layer['index'] == target_bert_layer_idx:\n",
    "                embedded_comments.append(layer['values'])\n",
    "\n"
   ]
  },
  {
   "cell_type": "code",
   "execution_count": null,
   "metadata": {},
   "outputs": [],
   "source": [
    "# join embeddings with data set dataframe\n"
   ]
  },
  {
   "cell_type": "code",
   "execution_count": null,
   "metadata": {},
   "outputs": [],
   "source": [
    "# extract embedding column and label columns"
   ]
  },
  {
   "cell_type": "code",
   "execution_count": null,
   "metadata": {},
   "outputs": [],
   "source": [
    "# convert to X, Y"
   ]
  },
  {
   "cell_type": "code",
   "execution_count": null,
   "metadata": {},
   "outputs": [],
   "source": [
    "# fit model and test"
   ]
  }
 ],
 "metadata": {
  "kernelspec": {
   "display_name": "Python 2",
   "language": "python",
   "name": "python2"
  },
  "language_info": {
   "codemirror_mode": {
    "name": "ipython",
    "version": 2
   },
   "file_extension": ".py",
   "mimetype": "text/x-python",
   "name": "python",
   "nbconvert_exporter": "python",
   "pygments_lexer": "ipython2",
   "version": "2.7.6"
  }
 },
 "nbformat": 4,
 "nbformat_minor": 0
}
